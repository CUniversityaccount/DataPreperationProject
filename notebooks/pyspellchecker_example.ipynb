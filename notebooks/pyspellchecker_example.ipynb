{
 "cells": [
  {
   "cell_type": "code",
   "execution_count": 1,
   "metadata": {},
   "outputs": [],
   "source": [
    "import pandas as pd\n",
    "\n",
    "corrupted_df = pd.read_json(\"data/corrupted_test.json\",\n",
    "                #   compression=\"gzip\", \n",
    "                  lines=True)"
   ]
  },
  {
   "cell_type": "code",
   "execution_count": 3,
   "metadata": {},
   "outputs": [],
   "source": [
    "from cleaning import psc_correct_spelling\n",
    "\n",
    "# find culumns\"reviewText\" and \"summary\" in corrupted_df and use tb_correct_spelling to correct the spelling\n",
    "def correct_spelling(row):\n",
    "    row['reviewText'] = psc_correct_spelling(str(row['reviewText']))\n",
    "    row['summary'] = psc_correct_spelling(str(row['summary']))\n",
    "    return row\n",
    "\n",
    "corrupted_df = corrupted_df.apply(correct_spelling, axis=1)\n",
    "    \n",
    "\n",
    "corrupted_df\n",
    "corrupted_df.to_json(\"data/psc_clean_test.json\", orient=\"records\", lines=True)"
   ]
  }
 ],
 "metadata": {
  "kernelspec": {
   "display_name": "Python 3",
   "language": "python",
   "name": "python3"
  },
  "language_info": {
   "codemirror_mode": {
    "name": "ipython",
    "version": 3
   },
   "file_extension": ".py",
   "mimetype": "text/x-python",
   "name": "python",
   "nbconvert_exporter": "python",
   "pygments_lexer": "ipython3",
   "version": "3.9.19"
  }
 },
 "nbformat": 4,
 "nbformat_minor": 2
}
