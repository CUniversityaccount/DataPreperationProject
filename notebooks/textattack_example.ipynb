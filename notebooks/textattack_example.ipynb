{
 "cells": [
  {
   "cell_type": "code",
   "execution_count": null,
   "id": "initial_id",
   "metadata": {
    "ExecuteTime": {
     "end_time": "2024-03-21T19:41:22.660745Z",
     "start_time": "2024-03-21T19:41:22.651864Z"
    },
    "collapsed": true
   },
   "outputs": [],
   "source": [
    "import pandas as pd\n",
    "from corruptions import TextAttackCorruption\n",
    "\n",
    "from textattack.transformations import WordSwapRandomCharacterInsertion\n",
    "from textattack.transformations import WordSwapQWERTY\n",
    "from textattack.transformations import WordSwapRandomCharacterSubstitution\n",
    "from textattack.transformations import WordSwapRandomCharacterDeletion\n",
    "\n",
    "from textattack.constraints.pre_transformation import StopwordModification\n",
    "from textattack.constraints.pre_transformation import RepeatModification"
   ]
  },
  {
   "cell_type": "code",
   "execution_count": null,
   "id": "cb238448a07cf56",
   "metadata": {
    "ExecuteTime": {
     "end_time": "2024-03-21T19:41:52.063645Z",
     "start_time": "2024-03-21T19:41:52.018529Z"
    },
    "collapsed": false
   },
   "outputs": [],
   "source": [
    "df = pd.read_json(\"./data/small.json\", lines=True)\n",
    "df"
   ]
  },
  {
   "cell_type": "code",
   "execution_count": null,
   "id": "4ee99c114cc138f6",
   "metadata": {
    "ExecuteTime": {
     "end_time": "2024-03-21T19:41:58.819932Z",
     "start_time": "2024-03-21T19:41:54.392286Z"
    },
    "collapsed": false
   },
   "outputs": [],
   "source": [
    "text_corruption = TextAttackCorruption(\n",
    "    column=\"reviewText\",\n",
    "    fraction=0.2,\n",
    "    transformations=[\n",
    "        WordSwapRandomCharacterDeletion(),\n",
    "        WordSwapRandomCharacterInsertion(),\n",
    "        WordSwapRandomCharacterSubstitution(),\n",
    "        WordSwapQWERTY()\n",
    "    ],\n",
    "    constraints=[\n",
    "        RepeatModification(), \n",
    "        StopwordModification()\n",
    "    ]\n",
    ")\n",
    "\n",
    "text_corruption.transform(df)"
   ]
  },
  {
   "cell_type": "code",
   "execution_count": null,
   "id": "d046c7aaf07cb50e",
   "metadata": {
    "collapsed": false
   },
   "outputs": [],
   "source": []
  }
 ],
 "metadata": {
  "kernelspec": {
   "display_name": "Python 3",
   "language": "python",
   "name": "python3"
  },
  "language_info": {
   "codemirror_mode": {
    "name": "ipython",
    "version": 3
   },
   "file_extension": ".py",
   "mimetype": "text/x-python",
   "name": "python",
   "nbconvert_exporter": "python",
   "pygments_lexer": "ipython3",
   "version": "3.10.12"
  }
 },
 "nbformat": 4,
 "nbformat_minor": 5
}
