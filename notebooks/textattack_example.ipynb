{
 "cells": [
  {
   "cell_type": "raw",
   "source": [],
   "metadata": {
    "collapsed": false
   },
   "id": "7e036167e0e0cabb"
  },
  {
   "cell_type": "code",
   "execution_count": 5,
   "id": "initial_id",
   "metadata": {
    "collapsed": true,
    "ExecuteTime": {
     "end_time": "2024-03-21T19:41:22.660745Z",
     "start_time": "2024-03-21T19:41:22.651864Z"
    }
   },
   "outputs": [],
   "source": [
    "import pandas as pd\n",
    "from src.corruptions import TextAttackCorruption\n",
    "\n",
    "from textattack.transformations import WordSwapRandomCharacterInsertion\n",
    "from textattack.transformations import WordSwapQWERTY\n",
    "from textattack.transformations import WordSwapRandomCharacterSubstitution\n",
    "from textattack.transformations import WordSwapRandomCharacterDeletion\n",
    "\n",
    "from textattack.constraints.pre_transformation import StopwordModification\n",
    "from textattack.constraints.pre_transformation import RepeatModification"
   ]
  },
  {
   "cell_type": "code",
   "outputs": [
    {
     "data": {
      "text/plain": "     overall  verified   reviewTime      reviewerID        asin  \\\n0          5      True  11 19, 2014  A1QVBUH9E1V6I8  4639725183   \n1          5      True  10 13, 2016  A3GEOILWLK86XM  4639725183   \n2          5      True  11 21, 2015  A32RD6L701BIGP  4639725183   \n3          5      True  08 12, 2015  A2UY1O1FBGKIE6  4639725183   \n4          5      True  05 28, 2015  A3QHVBQYDV7Z6U  4639725183   \n..       ...       ...          ...             ...         ...   \n112        5      True  10 28, 2014  A3HKBY3DH96VVT  9742356831   \n113        4      True   10 1, 2014  A1FIOBU4XSMO56  9742356831   \n114        5      True  09 22, 2014   A4EWRIA8CCRMQ  9742356831   \n115        4      True  09 13, 2014    A9DIYBDBJDOJ  9742356831   \n116        2      True   09 9, 2014  A39MJSO7Q51S3V  9742356831   \n\n        reviewerName                                         reviewText  \\\n0     Jamshed Mathur                                No adverse comment.   \n1          itsjustme                          Gift for college student.   \n2    Krystal Clifton  If you like strong tea, this is for you. It mi...   \n3            U. Kane  Love the tea. The flavor is way better than th...   \n4           The Nana  I have searched everywhere until I browsed Ama...   \n..               ...                                                ...   \n112          Icydawg            as described and shipped on time tastey   \n113              WRS                     Good stuff. Would order again.   \n114              Ann                                                yum   \n115   Blue Dragonfly  I have Mae Ploy Yellow Curry and Panang Red Cu...   \n116              Soo  It was bit expensive. Chinese market was a lit...   \n\n                           summary  unixReviewTime  vote  \n0                       Five Stars      1416355200   NaN  \n1                   Great product.      1476316800   NaN  \n2                           Strong      1448064000   NaN  \n3                        Great tea      1439337600   NaN  \n4    This is the tea I remembered!      1432771200   NaN  \n..                             ...             ...   ...  \n112                     Five Stars      1414454400   NaN  \n113                     Very good.      1412121600   NaN  \n114                     Five Stars      1411344000   NaN  \n115                      Very hot!      1410566400  13.0  \n116                             it      1410220800   NaN  \n\n[117 rows x 10 columns]",
      "text/html": "<div>\n<style scoped>\n    .dataframe tbody tr th:only-of-type {\n        vertical-align: middle;\n    }\n\n    .dataframe tbody tr th {\n        vertical-align: top;\n    }\n\n    .dataframe thead th {\n        text-align: right;\n    }\n</style>\n<table border=\"1\" class=\"dataframe\">\n  <thead>\n    <tr style=\"text-align: right;\">\n      <th></th>\n      <th>overall</th>\n      <th>verified</th>\n      <th>reviewTime</th>\n      <th>reviewerID</th>\n      <th>asin</th>\n      <th>reviewerName</th>\n      <th>reviewText</th>\n      <th>summary</th>\n      <th>unixReviewTime</th>\n      <th>vote</th>\n    </tr>\n  </thead>\n  <tbody>\n    <tr>\n      <th>0</th>\n      <td>5</td>\n      <td>True</td>\n      <td>11 19, 2014</td>\n      <td>A1QVBUH9E1V6I8</td>\n      <td>4639725183</td>\n      <td>Jamshed Mathur</td>\n      <td>No adverse comment.</td>\n      <td>Five Stars</td>\n      <td>1416355200</td>\n      <td>NaN</td>\n    </tr>\n    <tr>\n      <th>1</th>\n      <td>5</td>\n      <td>True</td>\n      <td>10 13, 2016</td>\n      <td>A3GEOILWLK86XM</td>\n      <td>4639725183</td>\n      <td>itsjustme</td>\n      <td>Gift for college student.</td>\n      <td>Great product.</td>\n      <td>1476316800</td>\n      <td>NaN</td>\n    </tr>\n    <tr>\n      <th>2</th>\n      <td>5</td>\n      <td>True</td>\n      <td>11 21, 2015</td>\n      <td>A32RD6L701BIGP</td>\n      <td>4639725183</td>\n      <td>Krystal Clifton</td>\n      <td>If you like strong tea, this is for you. It mi...</td>\n      <td>Strong</td>\n      <td>1448064000</td>\n      <td>NaN</td>\n    </tr>\n    <tr>\n      <th>3</th>\n      <td>5</td>\n      <td>True</td>\n      <td>08 12, 2015</td>\n      <td>A2UY1O1FBGKIE6</td>\n      <td>4639725183</td>\n      <td>U. Kane</td>\n      <td>Love the tea. The flavor is way better than th...</td>\n      <td>Great tea</td>\n      <td>1439337600</td>\n      <td>NaN</td>\n    </tr>\n    <tr>\n      <th>4</th>\n      <td>5</td>\n      <td>True</td>\n      <td>05 28, 2015</td>\n      <td>A3QHVBQYDV7Z6U</td>\n      <td>4639725183</td>\n      <td>The Nana</td>\n      <td>I have searched everywhere until I browsed Ama...</td>\n      <td>This is the tea I remembered!</td>\n      <td>1432771200</td>\n      <td>NaN</td>\n    </tr>\n    <tr>\n      <th>...</th>\n      <td>...</td>\n      <td>...</td>\n      <td>...</td>\n      <td>...</td>\n      <td>...</td>\n      <td>...</td>\n      <td>...</td>\n      <td>...</td>\n      <td>...</td>\n      <td>...</td>\n    </tr>\n    <tr>\n      <th>112</th>\n      <td>5</td>\n      <td>True</td>\n      <td>10 28, 2014</td>\n      <td>A3HKBY3DH96VVT</td>\n      <td>9742356831</td>\n      <td>Icydawg</td>\n      <td>as described and shipped on time tastey</td>\n      <td>Five Stars</td>\n      <td>1414454400</td>\n      <td>NaN</td>\n    </tr>\n    <tr>\n      <th>113</th>\n      <td>4</td>\n      <td>True</td>\n      <td>10 1, 2014</td>\n      <td>A1FIOBU4XSMO56</td>\n      <td>9742356831</td>\n      <td>WRS</td>\n      <td>Good stuff. Would order again.</td>\n      <td>Very good.</td>\n      <td>1412121600</td>\n      <td>NaN</td>\n    </tr>\n    <tr>\n      <th>114</th>\n      <td>5</td>\n      <td>True</td>\n      <td>09 22, 2014</td>\n      <td>A4EWRIA8CCRMQ</td>\n      <td>9742356831</td>\n      <td>Ann</td>\n      <td>yum</td>\n      <td>Five Stars</td>\n      <td>1411344000</td>\n      <td>NaN</td>\n    </tr>\n    <tr>\n      <th>115</th>\n      <td>4</td>\n      <td>True</td>\n      <td>09 13, 2014</td>\n      <td>A9DIYBDBJDOJ</td>\n      <td>9742356831</td>\n      <td>Blue Dragonfly</td>\n      <td>I have Mae Ploy Yellow Curry and Panang Red Cu...</td>\n      <td>Very hot!</td>\n      <td>1410566400</td>\n      <td>13.0</td>\n    </tr>\n    <tr>\n      <th>116</th>\n      <td>2</td>\n      <td>True</td>\n      <td>09 9, 2014</td>\n      <td>A39MJSO7Q51S3V</td>\n      <td>9742356831</td>\n      <td>Soo</td>\n      <td>It was bit expensive. Chinese market was a lit...</td>\n      <td>it</td>\n      <td>1410220800</td>\n      <td>NaN</td>\n    </tr>\n  </tbody>\n</table>\n<p>117 rows × 10 columns</p>\n</div>"
     },
     "execution_count": 9,
     "metadata": {},
     "output_type": "execute_result"
    }
   ],
   "source": [
    "df = pd.read_json(\"./../data/small.json\", lines=True)\n",
    "df"
   ],
   "metadata": {
    "collapsed": false,
    "ExecuteTime": {
     "end_time": "2024-03-21T19:41:52.063645Z",
     "start_time": "2024-03-21T19:41:52.018529Z"
    }
   },
   "id": "cb238448a07cf56",
   "execution_count": 9
  },
  {
   "cell_type": "code",
   "outputs": [
    {
     "data": {
      "text/plain": "     overall  verified   reviewTime      reviewerID        asin  \\\n0          5      True  11 19, 2014  A1QVBUH9E1V6I8  4639725183   \n1          5      True  10 13, 2016  A3GEOILWLK86XM  4639725183   \n2          5      True  11 21, 2015  A32RD6L701BIGP  4639725183   \n3          5      True  08 12, 2015  A2UY1O1FBGKIE6  4639725183   \n4          5      True  05 28, 2015  A3QHVBQYDV7Z6U  4639725183   \n..       ...       ...          ...             ...         ...   \n112        5      True  10 28, 2014  A3HKBY3DH96VVT  9742356831   \n113        4      True   10 1, 2014  A1FIOBU4XSMO56  9742356831   \n114        5      True  09 22, 2014   A4EWRIA8CCRMQ  9742356831   \n115        4      True  09 13, 2014    A9DIYBDBJDOJ  9742356831   \n116        2      True   09 9, 2014  A39MJSO7Q51S3V  9742356831   \n\n        reviewerName                                         reviewText  \\\n0     Jamshed Mathur                                No adverse comment.   \n1          itsjustme                          Gift for college student.   \n2    Krystal Clifton  If you like strong tea, this is for you. It mi...   \n3            U. Kane  Love the tea. The flavor is way better than th...   \n4           The Nana  I have searched everwhere until I obrowsed Ama...   \n..               ...                                                ...   \n112          Icydawg            as described and shippef on time tastey   \n113              WRS                     Good stuff. Would order again.   \n114              Ann                                               ymum   \n115   Blue Dragonfly  I have Mae Ploy Yellow Curry and Panang Red Cu...   \n116              Soo  It was bit expensive. Chinese market was a lit...   \n\n                           summary  unixReviewTime  vote  \n0                       Five Stars      1416355200   NaN  \n1                   Great product.      1476316800   NaN  \n2                           Strong      1448064000   NaN  \n3                        Great tea      1439337600   NaN  \n4    This is the tea I remembered!      1432771200   NaN  \n..                             ...             ...   ...  \n112                     Five Stars      1414454400   NaN  \n113                     Very good.      1412121600   NaN  \n114                     Five Stars      1411344000   NaN  \n115                      Very hot!      1410566400  13.0  \n116                             it      1410220800   NaN  \n\n[117 rows x 10 columns]",
      "text/html": "<div>\n<style scoped>\n    .dataframe tbody tr th:only-of-type {\n        vertical-align: middle;\n    }\n\n    .dataframe tbody tr th {\n        vertical-align: top;\n    }\n\n    .dataframe thead th {\n        text-align: right;\n    }\n</style>\n<table border=\"1\" class=\"dataframe\">\n  <thead>\n    <tr style=\"text-align: right;\">\n      <th></th>\n      <th>overall</th>\n      <th>verified</th>\n      <th>reviewTime</th>\n      <th>reviewerID</th>\n      <th>asin</th>\n      <th>reviewerName</th>\n      <th>reviewText</th>\n      <th>summary</th>\n      <th>unixReviewTime</th>\n      <th>vote</th>\n    </tr>\n  </thead>\n  <tbody>\n    <tr>\n      <th>0</th>\n      <td>5</td>\n      <td>True</td>\n      <td>11 19, 2014</td>\n      <td>A1QVBUH9E1V6I8</td>\n      <td>4639725183</td>\n      <td>Jamshed Mathur</td>\n      <td>No adverse comment.</td>\n      <td>Five Stars</td>\n      <td>1416355200</td>\n      <td>NaN</td>\n    </tr>\n    <tr>\n      <th>1</th>\n      <td>5</td>\n      <td>True</td>\n      <td>10 13, 2016</td>\n      <td>A3GEOILWLK86XM</td>\n      <td>4639725183</td>\n      <td>itsjustme</td>\n      <td>Gift for college student.</td>\n      <td>Great product.</td>\n      <td>1476316800</td>\n      <td>NaN</td>\n    </tr>\n    <tr>\n      <th>2</th>\n      <td>5</td>\n      <td>True</td>\n      <td>11 21, 2015</td>\n      <td>A32RD6L701BIGP</td>\n      <td>4639725183</td>\n      <td>Krystal Clifton</td>\n      <td>If you like strong tea, this is for you. It mi...</td>\n      <td>Strong</td>\n      <td>1448064000</td>\n      <td>NaN</td>\n    </tr>\n    <tr>\n      <th>3</th>\n      <td>5</td>\n      <td>True</td>\n      <td>08 12, 2015</td>\n      <td>A2UY1O1FBGKIE6</td>\n      <td>4639725183</td>\n      <td>U. Kane</td>\n      <td>Love the tea. The flavor is way better than th...</td>\n      <td>Great tea</td>\n      <td>1439337600</td>\n      <td>NaN</td>\n    </tr>\n    <tr>\n      <th>4</th>\n      <td>5</td>\n      <td>True</td>\n      <td>05 28, 2015</td>\n      <td>A3QHVBQYDV7Z6U</td>\n      <td>4639725183</td>\n      <td>The Nana</td>\n      <td>I have searched everwhere until I obrowsed Ama...</td>\n      <td>This is the tea I remembered!</td>\n      <td>1432771200</td>\n      <td>NaN</td>\n    </tr>\n    <tr>\n      <th>...</th>\n      <td>...</td>\n      <td>...</td>\n      <td>...</td>\n      <td>...</td>\n      <td>...</td>\n      <td>...</td>\n      <td>...</td>\n      <td>...</td>\n      <td>...</td>\n      <td>...</td>\n    </tr>\n    <tr>\n      <th>112</th>\n      <td>5</td>\n      <td>True</td>\n      <td>10 28, 2014</td>\n      <td>A3HKBY3DH96VVT</td>\n      <td>9742356831</td>\n      <td>Icydawg</td>\n      <td>as described and shippef on time tastey</td>\n      <td>Five Stars</td>\n      <td>1414454400</td>\n      <td>NaN</td>\n    </tr>\n    <tr>\n      <th>113</th>\n      <td>4</td>\n      <td>True</td>\n      <td>10 1, 2014</td>\n      <td>A1FIOBU4XSMO56</td>\n      <td>9742356831</td>\n      <td>WRS</td>\n      <td>Good stuff. Would order again.</td>\n      <td>Very good.</td>\n      <td>1412121600</td>\n      <td>NaN</td>\n    </tr>\n    <tr>\n      <th>114</th>\n      <td>5</td>\n      <td>True</td>\n      <td>09 22, 2014</td>\n      <td>A4EWRIA8CCRMQ</td>\n      <td>9742356831</td>\n      <td>Ann</td>\n      <td>ymum</td>\n      <td>Five Stars</td>\n      <td>1411344000</td>\n      <td>NaN</td>\n    </tr>\n    <tr>\n      <th>115</th>\n      <td>4</td>\n      <td>True</td>\n      <td>09 13, 2014</td>\n      <td>A9DIYBDBJDOJ</td>\n      <td>9742356831</td>\n      <td>Blue Dragonfly</td>\n      <td>I have Mae Ploy Yellow Curry and Panang Red Cu...</td>\n      <td>Very hot!</td>\n      <td>1410566400</td>\n      <td>13.0</td>\n    </tr>\n    <tr>\n      <th>116</th>\n      <td>2</td>\n      <td>True</td>\n      <td>09 9, 2014</td>\n      <td>A39MJSO7Q51S3V</td>\n      <td>9742356831</td>\n      <td>Soo</td>\n      <td>It was bit expensive. Chinese market was a lit...</td>\n      <td>it</td>\n      <td>1410220800</td>\n      <td>NaN</td>\n    </tr>\n  </tbody>\n</table>\n<p>117 rows × 10 columns</p>\n</div>"
     },
     "execution_count": 10,
     "metadata": {},
     "output_type": "execute_result"
    }
   ],
   "source": [
    "text_corruption = TextAttackCorruption(\n",
    "    column=\"reviewText\",\n",
    "    fraction=0.2,\n",
    "    transformations=[\n",
    "        WordSwapRandomCharacterDeletion(),\n",
    "        WordSwapRandomCharacterInsertion(),\n",
    "        WordSwapRandomCharacterSubstitution(),\n",
    "        WordSwapQWERTY()\n",
    "    ],\n",
    "    constraints=[\n",
    "        RepeatModification(), \n",
    "        StopwordModification()\n",
    "    ]\n",
    ")\n",
    "\n",
    "text_corruption.transform(df)"
   ],
   "metadata": {
    "collapsed": false,
    "ExecuteTime": {
     "end_time": "2024-03-21T19:41:58.819932Z",
     "start_time": "2024-03-21T19:41:54.392286Z"
    }
   },
   "id": "4ee99c114cc138f6",
   "execution_count": 10
  },
  {
   "cell_type": "code",
   "outputs": [],
   "source": [],
   "metadata": {
    "collapsed": false
   },
   "id": "d046c7aaf07cb50e"
  }
 ],
 "metadata": {
  "kernelspec": {
   "display_name": "Python 3",
   "language": "python",
   "name": "python3"
  },
  "language_info": {
   "codemirror_mode": {
    "name": "ipython",
    "version": 2
   },
   "file_extension": ".py",
   "mimetype": "text/x-python",
   "name": "python",
   "nbconvert_exporter": "python",
   "pygments_lexer": "ipython2",
   "version": "2.7.6"
  }
 },
 "nbformat": 4,
 "nbformat_minor": 5
}
