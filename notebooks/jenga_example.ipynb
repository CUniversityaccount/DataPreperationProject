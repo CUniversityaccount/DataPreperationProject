{
 "cells": [
  {
   "cell_type": "code",
   "execution_count": null,
   "id": "initial_id",
   "metadata": {
    "ExecuteTime": {
     "end_time": "2024-03-21T18:42:11.014193Z",
     "start_time": "2024-03-21T18:42:11.007853Z"
    },
    "collapsed": true
   },
   "outputs": [],
   "source": [
    "from jenga.corruptions.text import BrokenCharacters\n",
    "import pandas as pd"
   ]
  },
  {
   "cell_type": "code",
   "execution_count": null,
   "id": "934e442480e84712",
   "metadata": {
    "ExecuteTime": {
     "end_time": "2024-03-21T18:42:16.568054Z",
     "start_time": "2024-03-21T18:42:16.523498Z"
    },
    "collapsed": false
   },
   "outputs": [],
   "source": [
    "data = pd.read_json(\"./data/small.json\", lines=True)\n",
    "data"
   ]
  },
  {
   "cell_type": "code",
   "execution_count": null,
   "id": "b50ef9555ca432a6",
   "metadata": {
    "ExecuteTime": {
     "end_time": "2024-03-19T22:38:27.101475Z",
     "start_time": "2024-03-19T22:38:27.059850Z"
    },
    "collapsed": false
   },
   "outputs": [],
   "source": [
    "%%time\n",
    "broken_characters = BrokenCharacters(\"summary\", 0.2)\n",
    "broken_characters.transform(data)"
   ]
  }
 ],
 "metadata": {
  "kernelspec": {
   "display_name": "Python 3",
   "language": "python",
   "name": "python3"
  },
  "language_info": {
   "codemirror_mode": {
    "name": "ipython",
    "version": 3
   },
   "file_extension": ".py",
   "mimetype": "text/x-python",
   "name": "python",
   "nbconvert_exporter": "python",
   "pygments_lexer": "ipython3",
   "version": "3.10.12"
  }
 },
 "nbformat": 4,
 "nbformat_minor": 5
}
