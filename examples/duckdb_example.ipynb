{
 "cells": [
  {
   "cell_type": "code",
   "execution_count": null,
   "id": "initial_id",
   "metadata": {
    "ExecuteTime": {
     "end_time": "2024-03-21T19:43:16.200624Z",
     "start_time": "2024-03-21T19:43:01.376267Z"
    },
    "collapsed": true
   },
   "outputs": [],
   "source": [
    "import pandas as pd\n",
    "import os\n",
    "from jenga.corruptions import DuckDBCorruptionBrokenCharacters, DuckDBCorruptionWordDeletion\n",
    "    "
   ]
  },
  {
   "cell_type": "code",
   "execution_count": null,
   "id": "54d335baec09bfed",
   "metadata": {
    "ExecuteTime": {
     "end_time": "2024-03-21T19:43:19.911316Z",
     "start_time": "2024-03-21T19:43:19.865996Z"
    },
    "collapsed": false
   },
   "outputs": [],
   "source": [
    "df = pd.read_json(\"./data/small.json\", lines=True)\n",
    "df"
   ]
  },
  {
   "cell_type": "code",
   "execution_count": null,
   "id": "6258064fc600242e",
   "metadata": {
    "ExecuteTime": {
     "end_time": "2024-03-21T19:44:23.964716Z",
     "start_time": "2024-03-21T19:44:23.923930Z"
    },
    "collapsed": false
   },
   "outputs": [],
   "source": [
    "duckdb_corruption = DuckDBCorruptionBrokenCharacters(\"reviewText\", 0.2)\n",
    "duckdb_corruption.transform(df)"
   ]
  },
  {
   "cell_type": "code",
   "execution_count": null,
   "id": "6828d524",
   "metadata": {},
   "outputs": [],
   "source": [
    "# Incomplete\n",
    "duckdb_corruption = DuckDBCorruptionWordDeletion(\"reviewText\", 0.2)\n",
    "duckdb_corruption.transform(df)"
   ]
  }
 ],
 "metadata": {
  "kernelspec": {
   "display_name": "Python 3",
   "language": "python",
   "name": "python3"
  },
  "language_info": {
   "codemirror_mode": {
    "name": "ipython",
    "version": 3
   },
   "file_extension": ".py",
   "mimetype": "text/x-python",
   "name": "python",
   "nbconvert_exporter": "python",
   "pygments_lexer": "ipython3",
   "version": "3.10.12"
  }
 },
 "nbformat": 4,
 "nbformat_minor": 5
}
