{
 "cells": [
  {
   "cell_type": "code",
   "execution_count": null,
   "metadata": {},
   "outputs": [],
   "source": [
    "from jenga.corruptions import DuckDBCorruptionBrokenCharacters, BrokenCharacters\n",
    "import pandas as pd\n",
    "import duckdb\n",
    "import random\n",
    "import time\n",
    "import seaborn as sns\n",
    "import matplotlib.pyplot as plt"
   ]
  },
  {
   "cell_type": "code",
   "execution_count": null,
   "metadata": {},
   "outputs": [],
   "source": [
    "df = pd.read_json(\"./data/Grocery_and_Gourmet_Food_5.json\", lines=True)\n",
    "df"
   ]
  },
  {
   "cell_type": "code",
   "execution_count": null,
   "metadata": {},
   "outputs": [],
   "source": [
    "random.seed(4521)\n",
    "seeds = [random.random() for _ in range(10)]\n",
    "seeds"
   ]
  },
  {
   "cell_type": "code",
   "execution_count": null,
   "metadata": {},
   "outputs": [],
   "source": [
    "duck_computing_time = []\n",
    "duckdb.sql(\"SET threads = 1\")\n",
    "for seed in seeds:\n",
    "    duckdb.sql(f\"SELECT setseed({seed})\")\n",
    "    duckdb_corruption = DuckDBCorruptionBrokenCharacters(\"reviewText\", 0.2)\n",
    "    start = time.time()\n",
    "    duckdb_corruption.transform(df)\n",
    "    end = time.time()\n",
    "    duck_computing_time.append(end - start)\n",
    "duck_computing_time"
   ]
  },
  {
   "cell_type": "code",
   "execution_count": null,
   "metadata": {},
   "outputs": [],
   "source": [
    "# This were the results of the experiment\n",
    "duck_computing_time = [\n",
    "    56.379162311553955,\n",
    "    45.79448199272156,\n",
    "    53.21978259086609,\n",
    "    49.483625173568726,\n",
    "    48.91889500617981,\n",
    "    52.05965709686279,\n",
    "    47.06034827232361,\n",
    "    45.97737526893616,\n",
    "    49.353299617767334,\n",
    "    49.73344278335571\n",
    "]"
   ]
  },
  {
   "cell_type": "code",
   "execution_count": null,
   "metadata": {},
   "outputs": [],
   "source": [
    "duckdb_multiple_threads_computing_time = []\n",
    "duckdb.sql(\"SET threads = 4\")\n",
    "for seed in seeds:\n",
    "    duckdb.sql(f\"SELECT setseed({seed})\")\n",
    "    duckdb_corruption = DuckDBCorruptionBrokenCharacters(\"reviewText\", 0.2)\n",
    "    start = time.time()\n",
    "    duckdb_corruption.transform(df)\n",
    "    end = time.time()\n",
    "    duckdb_multiple_threads_computing_time.append(end - start)\n",
    "\n",
    "duckdb_multiple_threads_computing_time"
   ]
  },
  {
   "cell_type": "code",
   "execution_count": null,
   "metadata": {},
   "outputs": [],
   "source": [
    "duckdb_multiple_threads_computing_time = [\n",
    "    58.86254072189331,\n",
    "    47.50891900062561,\n",
    "    47.77925133705139,\n",
    "    49.86981225013733,\n",
    "    45.86521124839783,\n",
    "    50.89463400840759,\n",
    "    47.12282633781433,\n",
    "    50.97922658920288,\n",
    "    51.78722262382507,\n",
    "    53.28171372413635\n",
    "]"
   ]
  },
  {
   "cell_type": "code",
   "execution_count": null,
   "metadata": {},
   "outputs": [],
   "source": [
    "computing_time_jenga = []\n",
    "for seed in seeds:\n",
    "    random.seed(seed)\n",
    "    duckdb_corruption = BrokenCharacters(\"reviewText\", 0.2)\n",
    "    start = time.time()\n",
    "    duckdb_corruption.transform(df)\n",
    "    end = time.time()\n",
    "    computing_time_jenga.append(end - start)\n",
    "    print(end - start)\n",
    "# Here the result of experiments done on the machine \n",
    "computing_time_jenga"
   ]
  },
  {
   "cell_type": "code",
   "execution_count": null,
   "metadata": {},
   "outputs": [],
   "source": [
    "computing_time_jenga = [\n",
    "    105.71946358680725,\n",
    "    112.38954043388367,\n",
    "    114.71290516853333,\n",
    "    103.92811894416809,\n",
    "    113.79899501800537,\n",
    "    109.98125863075256,\n",
    "    116.37976813316345,\n",
    "    102.42627382278442,\n",
    "    108.20121622085571,\n",
    "    104.77867007255554\n",
    "]"
   ]
  },
  {
   "cell_type": "code",
   "execution_count": null,
   "metadata": {},
   "outputs": [],
   "source": [
    "\n",
    "df_results = pd.DataFrame(columns=[\"type\", \"timespan\"])\n",
    "df_results = pd.concat([\n",
    "    df_results, \n",
    "    pd.DataFrame([ { \"type\": \"Jenga\", \"timespan\": t} for t in computing_time_jenga]),\n",
    "    pd.DataFrame([ { \"type\": \"DuckDB\", \"timespan\": t} for t in duck_computing_time]),\n",
    "])\n",
    "df_results"
   ]
  },
  {
   "cell_type": "code",
   "execution_count": null,
   "metadata": {},
   "outputs": [],
   "source": [
    "fig = sns.catplot(data=df_results, x=\"type\", y=\"timespan\", kind=\"box\")\n",
    "fig.set_axis_labels(\n",
    "    \"Method of generation\",\n",
    "    \"Duration (s)\"\n",
    ")\n",
    "fig.set(title=\"Performance inserting broken characters\")\n",
    "fig.set(yticks=list(range(0, 121, 10))) # <--- set the ticks first\n",
    "plt.ylim(0, 120)\n",
    "plt.grid(axis=\"y\")\n",
    "plt.tight_layout()\n",
    "plt.savefig(\"performance_plt.png\", dpi=300)"
   ]
  },
  {
   "cell_type": "code",
   "execution_count": 14,
   "metadata": {},
   "outputs": [
    {
     "ename": "SyntaxError",
     "evalue": "f-string: unmatched '[' (387618429.py, line 7)",
     "output_type": "error",
     "traceback": [
      "\u001b[0;36m  Cell \u001b[0;32mIn[14], line 7\u001b[0;36m\u001b[0m\n\u001b[0;31m    print(f\"Std Jenga: {jenga_group[\"timespan\"].std()}\")\u001b[0m\n\u001b[0m                                     ^\u001b[0m\n\u001b[0;31mSyntaxError\u001b[0m\u001b[0;31m:\u001b[0m f-string: unmatched '['\n"
     ]
    }
   ],
   "source": [
    "r = df_results.groupby([\"type\"])\n",
    "jenga_group = r.get_group(\"Jenga\")\n",
    "duckdb_group = r.get_group(\"DuckDB\")\n",
    "median_jenga = jenga_group[\"timespan\"].median()\n",
    "median_duckdb =  duckdb_group[\"timespan\"].median()\n",
    "std_jenga = jenga_group[\"timespan\"].std()\n",
    "std_duckdb = duckdb_group[\"timespan\"].std()\n",
    "print(f\"SpeedUp: {median_jenga/median_duckdb}\")\n",
    "print(f\"Std Jenga: {}\")\n",
    "print(f\"Std DuckDB: {duckdb_group[\"timespan\"].std()}\")"
   ]
  }
 ],
 "metadata": {
  "kernelspec": {
   "display_name": "venv",
   "language": "python",
   "name": "python3"
  },
  "language_info": {
   "codemirror_mode": {
    "name": "ipython",
    "version": 3
   },
   "file_extension": ".py",
   "mimetype": "text/x-python",
   "name": "python",
   "nbconvert_exporter": "python",
   "pygments_lexer": "ipython3",
   "version": "3.10.12"
  }
 },
 "nbformat": 4,
 "nbformat_minor": 2
}
